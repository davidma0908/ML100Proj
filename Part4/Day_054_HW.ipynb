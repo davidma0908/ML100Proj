{
 "cells": [
  {
   "cell_type": "markdown",
   "metadata": {},
   "source": [
    "# 作業\n",
    "* 試著想想看, 非監督學習是否有可能使用評價函數 (Metric) 來鑑別好壞呢?  \n",
    "(Hint : 可以分為 \"有目標值\" 與 \"無目標值\" 兩個方向思考)"
   ]
  },
  {
   "cell_type": "markdown",
   "metadata": {
    "collapsed": true
   },
   "source": [
    "## Ans\n",
    "      有不少研究致力於將無監督轉化為監督學習，之後就可以用我們熟悉的方法，如準確率(accuracy)進行評估。 比如有研究用了順序集成(Sequential Ensemble)的方法進行異常檢測，在每一次叠代的時候，通過分析多個基學習器的相關係，生成了偽標籤用來淘汰表現不佳的基學習器。從頭到尾，它們也並未有真正的標籤，而是通過集成的方法生成了可信度較高的標籤，從而轉換為了一種監督手段。 \n",
    "      \n",
    "      無監督學習的衡量沒有標準方法，具體的應用會導致不同的評估方法。從聚類來看，距離度量和密度估計是比較直觀的判斷方法。異常檢測也有類似的性質，但往往比聚類更難(因為數據不平衡)。 除了距離度量，互信(mutual information)等類似的手段也可以用作衡量相似度和差異度。"
   ]
  },
  {
   "cell_type": "code",
   "execution_count": null,
   "metadata": {},
   "outputs": [],
   "source": []
  }
 ],
 "metadata": {
  "kernelspec": {
   "display_name": "Python 3",
   "language": "python",
   "name": "python3"
  },
  "language_info": {
   "codemirror_mode": {
    "name": "ipython",
    "version": 3
   },
   "file_extension": ".py",
   "mimetype": "text/x-python",
   "name": "python",
   "nbconvert_exporter": "python",
   "pygments_lexer": "ipython3",
   "version": "3.7.6"
  }
 },
 "nbformat": 4,
 "nbformat_minor": 1
}
