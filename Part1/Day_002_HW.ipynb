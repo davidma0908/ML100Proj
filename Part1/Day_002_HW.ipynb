{
 "cells": [
  {
   "cell_type": "markdown",
   "metadata": {},
   "source": [
    "## [作業目標]\n",
    "了解機器學習適合應用的領域與範疇。"
   ]
  },
  {
   "cell_type": "markdown",
   "metadata": {},
   "source": [
    "## [作業重點]\n",
    "透過瞭解機器學習的運作方式，找出非常適用機器學習應用的領域及其原因"
   ]
  },
  {
   "cell_type": "markdown",
   "metadata": {},
   "source": [
    "## 作業\n",
    "請找出一個你認為機器學習可以發光發熱的領域並闡述原因? "
   ]
  },
  {
   "cell_type": "markdown",
   "metadata": {},
   "source": [
    "# Ans:\n",
    "機器學習的優勢是能在大數據中挖掘出人力無法發現的規律。可以看到在投資交易方面有以下的優勢：\n",
    "1. 適合分析海量且高維的交易數據\n",
    "1. 能夠綜合多方面的信息，比如客觀事件、媒體輿論、股市波動、貨物定價等\n",
    "1. 能挖掘潛在的因素\n",
    "\n",
    "因此需要在特征工程，和模型結果分析兩方面著重尋求模型優化的方法，以求保證模型的準確度。特征工程在於篩選和創造對於目標有影響的數據，需要豐富的經驗和不斷地測試更新叠代，根據預測目標不能籠統地使用普適性的特征。比如預測股價的波動情況和投資盈利概率就應該使用不同的定制特征。另一方面，不能盲目地根據準確度來選擇模型，同時還需要仔細地審視模型的判斷原因，避免一些毫無邏輯的模型在實際應用時造成的損失。總的來說，機器學習可以在量化投資中給交易員的工作帶來提升，不過不能像借貸風測的場景一樣直接利用學習地結果做判斷，在量化投資中，機器學習更多的是发掘一些潛在的因素和規律，幫助交易員思考，更快速地決定交易策略。\n"
   ]
  },
  {
   "cell_type": "code",
   "execution_count": null,
   "metadata": {},
   "outputs": [],
   "source": []
  }
 ],
 "metadata": {
  "kernelspec": {
   "display_name": "Python 3",
   "language": "python",
   "name": "python3"
  },
  "language_info": {
   "codemirror_mode": {
    "name": "ipython",
    "version": 3
   },
   "file_extension": ".py",
   "mimetype": "text/x-python",
   "name": "python",
   "nbconvert_exporter": "python",
   "pygments_lexer": "ipython3",
   "version": "3.7.6"
  }
 },
 "nbformat": 4,
 "nbformat_minor": 2
}
