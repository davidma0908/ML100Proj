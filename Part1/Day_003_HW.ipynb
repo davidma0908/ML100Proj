{
 "cells": [
  {
   "cell_type": "markdown",
   "metadata": {},
   "source": [
    "## [作業目標]\n",
    "持續接觸有關機器學習的相關專案與最新技術"
   ]
  },
  {
   "cell_type": "markdown",
   "metadata": {},
   "source": [
    "## [作業重點]\n",
    "透過觀察頂尖公司的機器學習文章，來了解各公司是怎麼應用機器學習在實際的專案上"
   ]
  },
  {
   "cell_type": "markdown",
   "metadata": {},
   "source": [
    "## [作業]\n",
    "今天的作業希望大家能夠看看全球機器學習巨頭們在做的機器學習專案。以 google 為例，下圖是 Google 內部專案使用機器學習的數量，隨著時間進展，現在早已超過 2000 個專案在使用機器學習。"
   ]
  },
  {
   "cell_type": "markdown",
   "metadata": {},
   "source": [
    "![image](https://cdn-images-1.medium.com/max/800/1*U_L8qI8RmYS-MOBrYvXhSA.png)"
   ]
  },
  {
   "cell_type": "markdown",
   "metadata": {},
   "source": [
    "底下幫同學整理幾間知名企業的 blog 或機器學習網站 (自行搜尋也可)，這些網站都會整理最新的機器學習專案或者是技術文章，請挑選一篇文章閱讀並試著回答\n",
    "1. 專案的目標？ (要解決什麼問題）\n",
    "2. 使用的技術是？ (只需知道名稱即可，例如：使用 CNN 卷積神經網路做影像分類)\n",
    "3. 資料來源？ "
   ]
  },
  {
   "cell_type": "markdown",
   "metadata": {},
   "source": [
    "- [Google AI blog](https://ai.googleblog.com/)\n",
    "- [Facebook Research blog](https://research.fb.com/blog/)\n",
    "- [Apple machine learning journal](https://machinelearning.apple.com/)\n",
    "- [機器之心](https://www.jiqizhixin.com/)\n",
    "- [雷鋒網](http://www.leiphone.com/category/ai)"
   ]
  },
  {
   "cell_type": "markdown",
   "metadata": {},
   "source": [
    "# Ans\n",
    "Rethinking ImageNet Pre-training https://www.leiphone.com/news/202007/a5ex5xce31W2xCe6.html\n",
    "1. 比較預訓練和自訓練差異\n",
    "1. 利用ImageNet模型做影像目標檢測和語意切割，訓練方法區分為自訓練(在標記的數據上訓練teacher model。使用teacher model在未標記的數據上生成偽標記)和預訓練(使用ImageNet預訓練參數)\n",
    "1. \n",
    "  > 目標檢測：作者使用COCO數據集（11.8萬張圖片 ）進行監督學習下的目標檢測訓練。ImageNet數據集（120萬張圖片 ）和OpenImage數據集（170萬張圖片 ）用作未標記的數據集。使用以EfficientNet - B7為主幹網絡的RetinaNet目標檢測器。圖像的分辨率保持在640 x 640，金字塔等級為P3到P7，每個像素使用9個錨點。\n",
    "\n",
    "  > 語義分割：使用 PASCAL VOC 2012分割訓練集（1500張圖片）進行監督學習下的語義分割訓練。對於自訓練，作者使用了增強的PASCAL圖像數據集（9000張圖片），標記以及未標記的COCO（24萬張圖片）和ImageNet（120萬張圖片）數據集。使用以EfficientNet-B7和EfficientNet-L2為主幹網絡的NAS-FPN模型。"
   ]
  },
  {
   "cell_type": "code",
   "execution_count": null,
   "metadata": {},
   "outputs": [],
   "source": []
  }
 ],
 "metadata": {
  "kernelspec": {
   "display_name": "Python 3",
   "language": "python",
   "name": "python3"
  },
  "language_info": {
   "codemirror_mode": {
    "name": "ipython",
    "version": 3
   },
   "file_extension": ".py",
   "mimetype": "text/x-python",
   "name": "python",
   "nbconvert_exporter": "python",
   "pygments_lexer": "ipython3",
   "version": "3.7.6"
  }
 },
 "nbformat": 4,
 "nbformat_minor": 2
}
