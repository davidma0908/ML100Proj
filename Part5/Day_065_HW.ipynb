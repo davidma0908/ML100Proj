{
 "cells": [
  {
   "cell_type": "markdown",
   "metadata": {},
   "source": [
    "# 作業\n",
    "* 選擇分類資料集(右下)-螺旋雙臂 - 交錯六群，限定特徵只能使用前兩個，隱藏層 2 層滿 (共 8 * 2 =16 個神經元)，  \n",
    "  遞迴次數只允許跑到500次，但可以自由調整 批次大小、學習速率、啟動函數、正規化選項與參數\n",
    "* 在上述限制下，挑戰看看測試誤差 (Test Loss) 最低能到多少? 請回答你的上述幾項參數與 Test Loss 數"
   ]
  },
  {
   "cell_type": "markdown",
   "metadata": {
    "collapsed": true
   },
   "source": [
    "## Ans:\n",
    "- **Test Loss: 0.04**\n",
    "- **Params:**\n",
    "> - Batch size: 8\n",
    "> - Learning rate: 0.03\n",
    "> - Activation: Relu\n",
    "> - Regularization/rate: None\n",
    "\n",
    "- 因為限制epoch = 500，採用比較大的Learning Rate，搭配Relu避免overfit，感覺效果比較佳。\n",
    "- 用過Regularization，但搭配起來有些underfit，效果不好。\n",
    "- 因為限的是epoch次數不是時間，所以Batch size調小一點看能否加速收斂，不過調太小反而中間會學到一些雜訊，收斂效果不一定好。"
   ]
  },
  {
   "cell_type": "markdown",
   "metadata": {
    "collapsed": true
   },
   "source": []
  }
 ],
 "metadata": {
  "kernelspec": {
   "display_name": "Python 3",
   "language": "python",
   "name": "python3"
  },
  "language_info": {
   "codemirror_mode": {
    "name": "ipython",
    "version": 3
   },
   "file_extension": ".py",
   "mimetype": "text/x-python",
   "name": "python",
   "nbconvert_exporter": "python",
   "pygments_lexer": "ipython3",
   "version": "3.6.8"
  }
 },
 "nbformat": 4,
 "nbformat_minor": 2
}
