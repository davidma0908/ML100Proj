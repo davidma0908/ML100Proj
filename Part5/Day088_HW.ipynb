{
 "cells": [
  {
   "cell_type": "markdown",
   "metadata": {},
   "source": [
    "## Work\n",
    "1. 請嘗試寫一個 callback 用來記錄各類別在訓練過程中，對驗證集的 True Positive 與 True Negative"
   ]
  },
  {
   "cell_type": "code",
   "execution_count": 1,
   "metadata": {},
   "outputs": [],
   "source": [
    "import os\n",
    "from tensorflow import keras\n"
   ]
  },
  {
   "cell_type": "code",
   "execution_count": 2,
   "metadata": {},
   "outputs": [],
   "source": [
    "train, test = keras.datasets.cifar10.load_data()"
   ]
  },
  {
   "cell_type": "code",
   "execution_count": 3,
   "metadata": {},
   "outputs": [],
   "source": [
    "## 資料前處理\n",
    "def preproc_x(x, flatten=True):\n",
    "    x = x / 255.\n",
    "    if flatten:\n",
    "        x = x.reshape((len(x), -1))\n",
    "    return x\n",
    "\n",
    "def preproc_y(y, num_classes=10):\n",
    "    if y.shape[-1] == 1:\n",
    "        y = keras.utils.to_categorical(y, num_classes)\n",
    "    return y    "
   ]
  },
  {
   "cell_type": "code",
   "execution_count": 4,
   "metadata": {},
   "outputs": [],
   "source": [
    "x_train, y_train = train\n",
    "x_test, y_test = test\n",
    "\n",
    "# Preproc the inputs\n",
    "x_train = preproc_x(x_train)\n",
    "x_test = preproc_x(x_test)\n",
    "\n",
    "# Preprc the outputs\n",
    "y_train = preproc_y(y_train)\n",
    "y_test = preproc_y(y_test)"
   ]
  },
  {
   "cell_type": "code",
   "execution_count": 5,
   "metadata": {},
   "outputs": [],
   "source": [
    "from tensorflow.keras.layers import BatchNormalization\n",
    "def build_mlp(input_shape, output_units=10, num_neurons=[256, 256, 256]):\n",
    "    \"\"\"Code Here\n",
    "    建立你的神經網路\n",
    "    \"\"\"\n",
    "    input_layer = keras.layers.Input(input_shape)\n",
    "    \n",
    "    for i, n_units in enumerate(num_neurons):\n",
    "        if i == 0:\n",
    "            x = keras.layers.Dense(units=n_units, \n",
    "                                   activation=\"relu\", \n",
    "                                   name=\"hidden_layer\"+str(i+1))(input_layer)\n",
    "            x = BatchNormalization()(x)\n",
    "        else:\n",
    "            x = keras.layers.Dense(units=n_units, \n",
    "                                   activation=\"relu\", \n",
    "                                   name=\"hidden_layer\"+str(i+1))(x)\n",
    "            x = BatchNormalization()(x)\n",
    "    \n",
    "    out = keras.layers.Dense(units=output_units, activation=\"softmax\", name=\"output\")(x)\n",
    "    \n",
    "    model = keras.models.Model(inputs=[input_layer], outputs=[out])\n",
    "    return model"
   ]
  },
  {
   "cell_type": "code",
   "execution_count": 6,
   "metadata": {},
   "outputs": [],
   "source": [
    "## 超參數設定\n",
    "LEARNING_RATE = 1e-3\n",
    "EPOCHS = 25\n",
    "BATCH_SIZE = 1024\n",
    "MOMENTUM = 0.95"
   ]
  },
  {
   "cell_type": "code",
   "execution_count": 34,
   "metadata": {},
   "outputs": [],
   "source": [
    "# 載入 Callbacks\n",
    "from tensorflow.keras.callbacks import Callback\n",
    "import numpy as np\n",
    "\n",
    "# Record_fp_tp\n",
    "class Record_tp_tn(Callback):    \n",
    "    \"\"\"Code Here\n",
    "    撰寫一個紀錄 true positive 與 true negative 數量的 callbacks    \n",
    "    \"\"\"\n",
    "    def __init__(self, valid_data):\n",
    "        super(Record_tp_tn, self).__init__()\n",
    "        self.validation_data = valid_data\n",
    "        \n",
    "    def on_train_begin(self, epoch, logs = {}):\n",
    "        self._data = []\n",
    "        logs = logs or {}\n",
    "        record_items = [\"val_auc\", \"true_positives\", \"true_negatives\", \"val_fp\", \"val_fn\", \"val_tp\", \"val_tn\"]\n",
    "        for i in record_items:\n",
    "            if i not in self.params['metrics']:\n",
    "                self.params['metrics'].append(i)\n",
    "    def on_epoch_end(self, epoch, logs = {}, thres=0.5):\n",
    "        logs = logs or {}\n",
    "\n",
    "        y_true = self.validation_data[1].argmax(axis = 1)\n",
    "        y_pred = self.model.predict(self.validation_data[0])\n",
    "        y_pred = (y_pred[:, 1] >= thres) * 1\n",
    "        true_positives = np.sum(np.logical_and(y_pred == 1, y_true == 1))\n",
    "        true_negatives = np.sum(np.logical_and(y_pred == 0, y_true == 0))\n",
    "        logs[\"true_positives\"] = true_positives\n",
    "        logs[\"true_negatives\"] = true_negatives\n",
    "rec_tptn = Record_tp_tn(valid_data=(x_test, y_test))"
   ]
  },
  {
   "cell_type": "code",
   "execution_count": 35,
   "metadata": {
    "scrolled": true
   },
   "outputs": [
    {
     "name": "stdout",
     "output_type": "stream",
     "text": [
      "Model: \"model_10\"\n",
      "_________________________________________________________________\n",
      "Layer (type)                 Output Shape              Param #   \n",
      "=================================================================\n",
      "input_11 (InputLayer)        [(None, 3072)]            0         \n",
      "_________________________________________________________________\n",
      "hidden_layer1 (Dense)        (None, 256)               786688    \n",
      "_________________________________________________________________\n",
      "batch_normalization_30 (Batc (None, 256)               1024      \n",
      "_________________________________________________________________\n",
      "hidden_layer2 (Dense)        (None, 256)               65792     \n",
      "_________________________________________________________________\n",
      "batch_normalization_31 (Batc (None, 256)               1024      \n",
      "_________________________________________________________________\n",
      "hidden_layer3 (Dense)        (None, 256)               65792     \n",
      "_________________________________________________________________\n",
      "batch_normalization_32 (Batc (None, 256)               1024      \n",
      "_________________________________________________________________\n",
      "output (Dense)               (None, 10)                2570      \n",
      "=================================================================\n",
      "Total params: 923,914\n",
      "Trainable params: 922,378\n",
      "Non-trainable params: 1,536\n",
      "_________________________________________________________________\n",
      "Train on 50000 samples, validate on 10000 samples\n",
      "Epoch 1/25\n",
      "50000/50000 [==============================] - 3s 63us/sample - loss: 2.2729 - accuracy: 0.2603 - val_loss: 2.1342 - val_accuracy: 0.2240 - true_positives: 0.0000e+00 - true_negatives: 1000.0000\n",
      "Epoch 2/25\n",
      "50000/50000 [==============================] - 1s 29us/sample - loss: 1.7772 - accuracy: 0.3823 - val_loss: 1.9983 - val_accuracy: 0.3007 - true_positives: 0.0000e+00 - true_negatives: 1000.0000\n",
      "Epoch 3/25\n",
      "50000/50000 [==============================] - 1s 30us/sample - loss: 1.6479 - accuracy: 0.4213 - val_loss: 1.8456 - val_accuracy: 0.3800 - true_positives: 4.0000 - true_negatives: 1000.0000\n",
      "Epoch 4/25\n",
      "50000/50000 [==============================] - 2s 31us/sample - loss: 1.5731 - accuracy: 0.4460 - val_loss: 1.7278 - val_accuracy: 0.4114 - true_positives: 34.0000 - true_negatives: 1000.0000\n",
      "Epoch 5/25\n",
      "50000/50000 [==============================] - 2s 31us/sample - loss: 1.5202 - accuracy: 0.4652 - val_loss: 1.6324 - val_accuracy: 0.4362 - true_positives: 102.0000 - true_negatives: 1000.0000\n",
      "Epoch 6/25\n",
      "50000/50000 [==============================] - 2s 31us/sample - loss: 1.4757 - accuracy: 0.4824 - val_loss: 1.5850 - val_accuracy: 0.4439 - true_positives: 186.0000 - true_negatives: 999.0000\n",
      "Epoch 7/25\n",
      "50000/50000 [==============================] - 2s 31us/sample - loss: 1.4383 - accuracy: 0.4950 - val_loss: 1.5569 - val_accuracy: 0.4527 - true_positives: 202.0000 - true_negatives: 999.0000\n",
      "Epoch 8/25\n",
      "50000/50000 [==============================] - 2s 31us/sample - loss: 1.4048 - accuracy: 0.5066 - val_loss: 1.5373 - val_accuracy: 0.4548 - true_positives: 283.0000 - true_negatives: 996.0000\n",
      "Epoch 9/25\n",
      "50000/50000 [==============================] - 1s 30us/sample - loss: 1.3771 - accuracy: 0.5183 - val_loss: 1.5078 - val_accuracy: 0.4707 - true_positives: 336.0000 - true_negatives: 991.0000\n",
      "Epoch 10/25\n",
      "50000/50000 [==============================] - 2s 32us/sample - loss: 1.3482 - accuracy: 0.5287 - val_loss: 1.4957 - val_accuracy: 0.4744 - true_positives: 360.0000 - true_negatives: 991.0000\n",
      "Epoch 11/25\n",
      "50000/50000 [==============================] - 1s 30us/sample - loss: 1.3225 - accuracy: 0.5366 - val_loss: 1.4814 - val_accuracy: 0.4762 - true_positives: 422.0000 - true_negatives: 988.0000\n",
      "Epoch 12/25\n",
      "50000/50000 [==============================] - 2s 31us/sample - loss: 1.2989 - accuracy: 0.5450 - val_loss: 1.4735 - val_accuracy: 0.4816 - true_positives: 366.0000 - true_negatives: 991.0000\n",
      "Epoch 13/25\n",
      "50000/50000 [==============================] - 2s 30us/sample - loss: 1.2756 - accuracy: 0.5555 - val_loss: 1.4655 - val_accuracy: 0.4829 - true_positives: 406.0000 - true_negatives: 988.0000\n",
      "Epoch 14/25\n",
      "50000/50000 [==============================] - 2s 31us/sample - loss: 1.2546 - accuracy: 0.5640 - val_loss: 1.4516 - val_accuracy: 0.4897 - true_positives: 477.0000 - true_negatives: 984.0000\n",
      "Epoch 15/25\n",
      "50000/50000 [==============================] - 2s 31us/sample - loss: 1.2341 - accuracy: 0.5706 - val_loss: 1.4564 - val_accuracy: 0.4906 - true_positives: 399.0000 - true_negatives: 988.0000\n",
      "Epoch 16/25\n",
      "50000/50000 [==============================] - 2s 32us/sample - loss: 1.2156 - accuracy: 0.5773 - val_loss: 1.4470 - val_accuracy: 0.4924 - true_positives: 474.0000 - true_negatives: 987.0000\n",
      "Epoch 17/25\n",
      "50000/50000 [==============================] - 2s 32us/sample - loss: 1.1959 - accuracy: 0.5855 - val_loss: 1.4434 - val_accuracy: 0.4953 - true_positives: 456.0000 - true_negatives: 988.0000\n",
      "Epoch 18/25\n",
      "50000/50000 [==============================] - 1s 30us/sample - loss: 1.1779 - accuracy: 0.5908 - val_loss: 1.4483 - val_accuracy: 0.4923 - true_positives: 483.0000 - true_negatives: 985.0000\n",
      "Epoch 19/25\n",
      "50000/50000 [==============================] - 2s 31us/sample - loss: 1.1589 - accuracy: 0.5981 - val_loss: 1.4387 - val_accuracy: 0.4964 - true_positives: 435.0000 - true_negatives: 988.0000\n",
      "Epoch 20/25\n",
      "50000/50000 [==============================] - 2s 31us/sample - loss: 1.1413 - accuracy: 0.6061 - val_loss: 1.4404 - val_accuracy: 0.4925 - true_positives: 467.0000 - true_negatives: 986.0000\n",
      "Epoch 21/25\n",
      "50000/50000 [==============================] - 2s 31us/sample - loss: 1.1240 - accuracy: 0.6108 - val_loss: 1.4297 - val_accuracy: 0.5004 - true_positives: 500.0000 - true_negatives: 987.0000\n",
      "Epoch 22/25\n",
      "50000/50000 [==============================] - 2s 31us/sample - loss: 1.1060 - accuracy: 0.6202 - val_loss: 1.4264 - val_accuracy: 0.4987 - true_positives: 483.0000 - true_negatives: 983.0000\n",
      "Epoch 23/25\n",
      "50000/50000 [==============================] - 2s 32us/sample - loss: 1.0914 - accuracy: 0.6233 - val_loss: 1.4334 - val_accuracy: 0.4976 - true_positives: 497.0000 - true_negatives: 981.0000\n",
      "Epoch 24/25\n",
      "50000/50000 [==============================] - 1s 30us/sample - loss: 1.0749 - accuracy: 0.6298 - val_loss: 1.4304 - val_accuracy: 0.4998 - true_positives: 511.0000 - true_negatives: 983.0000\n",
      "Epoch 25/25\n",
      "50000/50000 [==============================] - 2s 31us/sample - loss: 1.0585 - accuracy: 0.6374 - val_loss: 1.4319 - val_accuracy: 0.5036 - true_positives: 511.0000 - true_negatives: 982.0000\n"
     ]
    }
   ],
   "source": [
    "model = build_mlp(input_shape=x_train.shape[1:])\n",
    "model.summary()\n",
    "optimizer = keras.optimizers.SGD(lr=LEARNING_RATE, nesterov=True, momentum=MOMENTUM)\n",
    "model.compile(loss=\"categorical_crossentropy\", metrics=[\"accuracy\"], optimizer=optimizer)\n",
    "\n",
    "\"\"\"Code Here\n",
    "將 callbacks 放入模型訓練流程中\n",
    "\"\"\"\n",
    "model.fit(x_train, y_train, \n",
    "          epochs=EPOCHS, \n",
    "          batch_size=BATCH_SIZE, \n",
    "          validation_data=(x_test, y_test), \n",
    "          shuffle=True,\n",
    "          callbacks=[rec_tptn]\n",
    "         )\n",
    "\n",
    "# Collect results\n",
    "train_loss = model.history.history[\"loss\"]\n",
    "valid_loss = model.history.history[\"val_loss\"]\n",
    "train_acc = model.history.history[\"accuracy\"]\n",
    "valid_acc = model.history.history[\"val_accuracy\"]\n",
    "\n",
    "\"\"\"Code Here\n",
    "將 tp/tn 從訓練完的模型中取出\n",
    "\"\"\"\n",
    "valid_tp = model.history.history['true_positives']\n",
    "valid_tn = model.history.history['true_negatives']"
   ]
  },
  {
   "cell_type": "code",
   "execution_count": 36,
   "metadata": {},
   "outputs": [
    {
     "data": {
      "image/png": "[encoded data removed]",
      "text/plain": [
       "<Figure size 432x288 with 1 Axes>"
      ]
     },
     "metadata": {
      "needs_background": "light"
     },
     "output_type": "display_data"
    },
    {
     "data": {
      "image/png": "[encoded data removed]",
      "text/plain": [
       "<Figure size 432x288 with 1 Axes>"
      ]
     },
     "metadata": {
      "needs_background": "light"
     },
     "output_type": "display_data"
    },
    {
     "data": {
      "image/png": "[encoded data removed]",
      "text/plain": [
       "<Figure size 432x288 with 1 Axes>"
      ]
     },
     "metadata": {
      "needs_background": "light"
     },
     "output_type": "display_data"
    }
   ],
   "source": [
    "import matplotlib.pyplot as plt\n",
    "%matplotlib inline\n",
    "\n",
    "plt.plot(range(len(train_loss)), train_loss, label=\"train loss\")\n",
    "plt.plot(range(len(valid_loss)), valid_loss, label=\"valid loss\")\n",
    "plt.legend()\n",
    "plt.title(\"Loss\")\n",
    "plt.show()\n",
    "\n",
    "plt.plot(range(len(train_acc)), train_acc, label=\"train accuracy\")\n",
    "plt.plot(range(len(valid_acc)), valid_acc, label=\"valid accuracy\")\n",
    "plt.legend()\n",
    "plt.title(\"Accuracy\")\n",
    "plt.show()\n",
    "\n",
    "plt.plot(range(len(valid_tp)), valid_tp, label=\"valid tp\", color=\"navy\")\n",
    "plt.plot(range(len(valid_tn)), valid_tn, label=\"valid tn\", color=\"red\")\n",
    "plt.legend()\n",
    "plt.title(\"True positives and True Negatives\")\n",
    "plt.show()\n"
   ]
  },
  {
   "cell_type": "code",
   "execution_count": null,
   "metadata": {},
   "outputs": [],
   "source": []
  }
 ],
 "metadata": {
  "kernelspec": {
   "display_name": "Python 3",
   "language": "python",
   "name": "python3"
  },
  "language_info": {
   "codemirror_mode": {
    "name": "ipython",
    "version": 3
   },
   "file_extension": ".py",
   "mimetype": "text/x-python",
   "name": "python",
   "nbconvert_exporter": "python",
   "pygments_lexer": "ipython3",
   "version": "3.6.8"
  }
 },
 "nbformat": 4,
 "nbformat_minor": 4
}
