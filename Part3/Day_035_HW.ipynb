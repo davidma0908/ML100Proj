{
 "cells": [
  {
   "cell_type": "markdown",
   "metadata": {},
   "source": [
    "## 練習時間\n",
    "相信大家對回歸問題及分類問題都有初步的了解。今天的作業希望大家搜尋有關 multi-label 的案例問題。下圖是電影 \"奇異博士\" 的分類。可以看到同時有 \"Action\", \"Adventure\", \"Fantasy\" 的類別存在，代表這是個多標籤的問題。 "
   ]
  },
  {
   "cell_type": "markdown",
   "metadata": {},
   "source": [
    "![image](https://cdn-images-1.medium.com/max/1000/1*r0gYXMSQf5VhdMyl2bRDyg.png)"
   ]
  },
  {
   "cell_type": "markdown",
   "metadata": {},
   "source": [
    "## 請搜尋目標為多標籤問題 (Multi-label) 的機器學習案例，了解其資料來源、目標以及評估指標為何\n",
    "## Hint: 服飾"
   ]
  },
  {
   "cell_type": "markdown",
   "metadata": {},
   "source": [
    "## Ans:\n",
    "https://www.pyimagesearch.com/2018/05/07/multi-label-classification-with-keras/"
   ]
  },
  {
   "cell_type": "markdown",
   "metadata": {},
   "source": [
    "#### 問題描述\n",
    "服裝類型：襯衫，連衣裙，褲子，鞋子等。顏色：紅色，藍色，綠色，黑色等。紋理/外觀：棉（棉），羊毛（羊毛），絲綢（絲），花呢（麻）等。\n",
    "對服裝類型服裝類型和顏色服裝顏色兩種標籤進行分類。"
   ]
  },
  {
   "cell_type": "markdown",
   "metadata": {},
   "source": [
    "![示例圖](https://www.aiuai.cn/uploads/sina/5ce8e01c3a837.jpg)"
   ]
  },
  {
   "cell_type": "markdown",
   "metadata": {},
   "source": [
    "#### 數據集共有2167張圖片，六個類別，具體如：\n",
    "\n",
    "黑色牛仔褲（344張圖片）  \n",
    "藍色連衣裙（386圖像）  \n",
    "藍色牛仔褲（356張圖片）  \n",
    "藍襯衫（369圖像）  \n",
    "紅色連衣裙（380張圖片）  \n",
    "紅襯衫（332圖像）  "
   ]
  },
  {
   "cell_type": "markdown",
   "metadata": {},
   "source": [
    "#### 網絡結構\n",
    "SmallerVGGNet"
   ]
  },
  {
   "cell_type": "markdown",
   "metadata": {},
   "source": [
    "#### Multi-label分類：\n",
    " \n",
    " 1. 替換網絡的softmax為sigmoid激活函數\n",
    " 1. 替換分類交叉熵損失函數為二進制交叉熵損失函數。"
   ]
  },
  {
   "cell_type": "code",
   "execution_count": null,
   "metadata": {},
   "outputs": [],
   "source": []
  }
 ],
 "metadata": {
  "kernelspec": {
   "display_name": "Python 3",
   "language": "python",
   "name": "python3"
  },
  "language_info": {
   "codemirror_mode": {
    "name": "ipython",
    "version": 3
   },
   "file_extension": ".py",
   "mimetype": "text/x-python",
   "name": "python",
   "nbconvert_exporter": "python",
   "pygments_lexer": "ipython3",
   "version": "3.7.6"
  }
 },
 "nbformat": 4,
 "nbformat_minor": 2
}
