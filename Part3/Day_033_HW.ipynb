{
 "cells": [
  {
   "cell_type": "markdown",
   "metadata": {},
   "source": [
    "## 練習時間"
   ]
  },
  {
   "cell_type": "markdown",
   "metadata": {},
   "source": [
    "請觀看李宏毅教授以神奇寶貝進化 CP 值預測的範例，解說何謂機器學習與過擬合。並回答以下問題"
   ]
  },
  {
   "cell_type": "markdown",
   "metadata": {},
   "source": [
    "[youtube](https://www.youtube.com/watch?v=fegAeph9UaA)"
   ]
  },
  {
   "cell_type": "markdown",
   "metadata": {},
   "source": [
    "### 1. 模型的泛化能力 (generalization) 是指什麼？ \n",
    "### 2. 分類問題與回歸問題分別可用的目標函數有哪些？"
   ]
  },
  {
   "cell_type": "markdown",
   "metadata": {},
   "source": [
    "#### Ans\n",
    " 1. 指機器學習算法對新樣本的適應能力。學習的目的是學到隱含在數據背後的規律，對具有同一規律的學習集以外的數據，經過訓練也能給出合適的輸出，該能力稱為泛化能力。\n",
    " 1. 迴歸問題中有衆多損失函數，而目前機器學習主流的損失函數還是均方誤差函數，平均絕對誤差也使用較多。而分類問題相對迴歸問題更爲具體，目標量只存在於一個有限集合，並且是離散的。分類問題往往比迴歸問題多出了一步，用於判斷類別。迴歸問題的損失函數就是性能度量函數，而分類問題的損失函數不能直接用於性能度量，其最終評估的標準不是離目標的距離，而是類別判斷的準確率。爲了最大地提升類別判斷準確率，我們需要爲分類問題定義不同的損失函數，而最常使用的就是交叉熵損失函數。"
   ]
  },
  {
   "cell_type": "markdown",
   "metadata": {},
   "source": [
    "https://www.twblogs.net/a/5c188f10bd9eee5e41847a50"
   ]
  },
  {
   "cell_type": "code",
   "execution_count": null,
   "metadata": {},
   "outputs": [],
   "source": []
  }
 ],
 "metadata": {
  "kernelspec": {
   "display_name": "Python 3",
   "language": "python",
   "name": "python3"
  },
  "language_info": {
   "codemirror_mode": {
    "name": "ipython",
    "version": 3
   },
   "file_extension": ".py",
   "mimetype": "text/x-python",
   "name": "python",
   "nbconvert_exporter": "python",
   "pygments_lexer": "ipython3",
   "version": "3.7.6"
  }
 },
 "nbformat": 4,
 "nbformat_minor": 2
}
